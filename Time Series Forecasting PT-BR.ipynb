{
  "nbformat": 4,
  "nbformat_minor": 0,
  "metadata": {
    "colab": {
      "provenance": [],
      "toc_visible": true
    },
    "kernelspec": {
      "name": "python3",
      "display_name": "Python 3"
    },
    "language_info": {
      "name": "python"
    }
  },
  "cells": [
    {
      "cell_type": "markdown",
      "source": [
        "# AVISO\n",
        "\n",
        "**Esse notebook é a versão em português do projeto.**\n",
        "\n",
        "**This notebook is the Portuguese version of the project.**\n",
        "\n",
        "[📘 Click here to open the English version of this notebook](https://github.com/cesardainezi/Time-Series-Forecasting-with-ARIMA/blob/main/Time%20Series%20Forecasting%20EN-US.ipynb).\n",
        "\n",
        "[📘 *Clique aqui para abrir a versão em português deste notebook*](https://github.com/cesardainezi/Time-Series-Forecasting-with-ARIMA/blob/main/Time%20Series%20Forecasting%20EN-US.ipynb).\n",
        "\n",
        "---\n",
        "\n",
        "Autor: Cesar Augusto Watanabe Dainezi\n",
        "\n",
        "Email: cesardainezi@gmail.com"
      ],
      "metadata": {
        "id": "8A_SM9ZdDrm3"
      }
    },
    {
      "cell_type": "markdown",
      "source": [
        "# 1 Introdução\n",
        "\n",
        "Neste projeto, trabalhamos com análise de séries temporais para prever os preços de fechamento das ações da Apple Inc. (AAPL), utilizando dados históricos do Yahoo Finance.\n",
        "\n",
        "O principal objetivo é construir e testar um modelo de previsão usando o método ARIMA (AutoRegressive Integrated Moving Average), muito popular para problemas envolvendo séries temporais.\n",
        "\n",
        "Optamos por usar os preços de fechamento diários devido à sua importância em aplicações do mundo real, como análise de investimentos, estratégias de trading e previsões de mercado. As etapas do projeto incluem:\n",
        "\n",
        "* Obter dados históricos diários de janeiro de 2018 a julho de 2025\n",
        "\n",
        "* Plotar a série temporal para entender seu comportamento\n",
        "\n",
        "* Construir um modelo ARIMA com uma ordem (p, d, q) escolhida\n",
        "\n",
        "* Testar o modelo com métricas de erro como MSE (Erro Quadrático Médio) e MAE (Erro Absoluto Médio)\n",
        "\n",
        "* Melhorar o modelo buscando os melhores parâmetros usando uma busca em grade simples\n",
        "\n",
        "Antes de treinar o modelo, convertemos o índice de tempo para valores inteiros para evitar problemas com datas irregulares, o que é comum em dados financeiros. Por fim, usamos o modelo treinado para fazer previsões sobre os dados de teste e comparamos os resultados com os valores reais."
      ],
      "metadata": {
        "id": "oP4jxeyHED2I"
      }
    },
    {
      "cell_type": "markdown",
      "source": [
        "# 2 Desenvolvimento do projeto"
      ],
      "metadata": {
        "id": "hhRDDRhAEbqz"
      }
    },
    {
      "cell_type": "markdown",
      "source": [
        "## 2.1 Obtendo dados com Yahoo Finance"
      ],
      "metadata": {
        "id": "P9RjHCSPKxFB"
      }
    },
    {
      "cell_type": "code",
      "source": [
        "import yfinance as yf\n",
        "import pandas as pd\n",
        "\n",
        "# Define o ticker (da ação)\n",
        "ticker = 'AAPL'\n",
        "\n",
        "# Baixa os dados de 1º de Janeiro de 2018 até 31 de Julho de 2025\n",
        "data = yf.download(ticker, start='2018-01-01', end='2025-07-31')\n",
        "\n",
        "# Exibe o dataframe obtido\n",
        "data.head()"
      ],
      "metadata": {
        "colab": {
          "base_uri": "https://localhost:8080/",
          "height": 304
        },
        "id": "jheJSEk4D6VY",
        "outputId": "bd8a19f1-6174-41eb-f6d3-4a802ed1d44f"
      },
      "execution_count": 6,
      "outputs": [
        {
          "output_type": "stream",
          "name": "stderr",
          "text": [
            "FutureWarning: YF.download() has changed argument auto_adjust default to True\n",
            "[*********************100%***********************]  1 of 1 completed\n"
          ]
        },
        {
          "output_type": "execute_result",
          "data": {
            "text/plain": [
              "Price           Close       High        Low       Open     Volume\n",
              "Ticker           AAPL       AAPL       AAPL       AAPL       AAPL\n",
              "Date                                                             \n",
              "2018-01-02  40.426819  40.436208  39.722764  39.933983  102223600\n",
              "2018-01-03  40.419785  40.964255  40.356422  40.490191  118071600\n",
              "2018-01-04  40.607536  40.710798  40.384586  40.492539   89738400\n",
              "2018-01-05  41.069859  41.156691  40.612224  40.703751   94640000\n",
              "2018-01-08  40.917324  41.213026  40.818753  40.917324   82271200"
            ],
            "text/html": [
              "\n",
              "  <div id=\"df-95674774-201d-4dcb-aa9c-308090a1f4ce\" class=\"colab-df-container\">\n",
              "    <div>\n",
              "<style scoped>\n",
              "    .dataframe tbody tr th:only-of-type {\n",
              "        vertical-align: middle;\n",
              "    }\n",
              "\n",
              "    .dataframe tbody tr th {\n",
              "        vertical-align: top;\n",
              "    }\n",
              "\n",
              "    .dataframe thead tr th {\n",
              "        text-align: left;\n",
              "    }\n",
              "\n",
              "    .dataframe thead tr:last-of-type th {\n",
              "        text-align: right;\n",
              "    }\n",
              "</style>\n",
              "<table border=\"1\" class=\"dataframe\">\n",
              "  <thead>\n",
              "    <tr>\n",
              "      <th>Price</th>\n",
              "      <th>Close</th>\n",
              "      <th>High</th>\n",
              "      <th>Low</th>\n",
              "      <th>Open</th>\n",
              "      <th>Volume</th>\n",
              "    </tr>\n",
              "    <tr>\n",
              "      <th>Ticker</th>\n",
              "      <th>AAPL</th>\n",
              "      <th>AAPL</th>\n",
              "      <th>AAPL</th>\n",
              "      <th>AAPL</th>\n",
              "      <th>AAPL</th>\n",
              "    </tr>\n",
              "    <tr>\n",
              "      <th>Date</th>\n",
              "      <th></th>\n",
              "      <th></th>\n",
              "      <th></th>\n",
              "      <th></th>\n",
              "      <th></th>\n",
              "    </tr>\n",
              "  </thead>\n",
              "  <tbody>\n",
              "    <tr>\n",
              "      <th>2018-01-02</th>\n",
              "      <td>40.426819</td>\n",
              "      <td>40.436208</td>\n",
              "      <td>39.722764</td>\n",
              "      <td>39.933983</td>\n",
              "      <td>102223600</td>\n",
              "    </tr>\n",
              "    <tr>\n",
              "      <th>2018-01-03</th>\n",
              "      <td>40.419785</td>\n",
              "      <td>40.964255</td>\n",
              "      <td>40.356422</td>\n",
              "      <td>40.490191</td>\n",
              "      <td>118071600</td>\n",
              "    </tr>\n",
              "    <tr>\n",
              "      <th>2018-01-04</th>\n",
              "      <td>40.607536</td>\n",
              "      <td>40.710798</td>\n",
              "      <td>40.384586</td>\n",
              "      <td>40.492539</td>\n",
              "      <td>89738400</td>\n",
              "    </tr>\n",
              "    <tr>\n",
              "      <th>2018-01-05</th>\n",
              "      <td>41.069859</td>\n",
              "      <td>41.156691</td>\n",
              "      <td>40.612224</td>\n",
              "      <td>40.703751</td>\n",
              "      <td>94640000</td>\n",
              "    </tr>\n",
              "    <tr>\n",
              "      <th>2018-01-08</th>\n",
              "      <td>40.917324</td>\n",
              "      <td>41.213026</td>\n",
              "      <td>40.818753</td>\n",
              "      <td>40.917324</td>\n",
              "      <td>82271200</td>\n",
              "    </tr>\n",
              "  </tbody>\n",
              "</table>\n",
              "</div>\n",
              "    <div class=\"colab-df-buttons\">\n",
              "\n",
              "  <div class=\"colab-df-container\">\n",
              "    <button class=\"colab-df-convert\" onclick=\"convertToInteractive('df-95674774-201d-4dcb-aa9c-308090a1f4ce')\"\n",
              "            title=\"Convert this dataframe to an interactive table.\"\n",
              "            style=\"display:none;\">\n",
              "\n",
              "  <svg xmlns=\"http://www.w3.org/2000/svg\" height=\"24px\" viewBox=\"0 -960 960 960\">\n",
              "    <path d=\"M120-120v-720h720v720H120Zm60-500h600v-160H180v160Zm220 220h160v-160H400v160Zm0 220h160v-160H400v160ZM180-400h160v-160H180v160Zm440 0h160v-160H620v160ZM180-180h160v-160H180v160Zm440 0h160v-160H620v160Z\"/>\n",
              "  </svg>\n",
              "    </button>\n",
              "\n",
              "  <style>\n",
              "    .colab-df-container {\n",
              "      display:flex;\n",
              "      gap: 12px;\n",
              "    }\n",
              "\n",
              "    .colab-df-convert {\n",
              "      background-color: #E8F0FE;\n",
              "      border: none;\n",
              "      border-radius: 50%;\n",
              "      cursor: pointer;\n",
              "      display: none;\n",
              "      fill: #1967D2;\n",
              "      height: 32px;\n",
              "      padding: 0 0 0 0;\n",
              "      width: 32px;\n",
              "    }\n",
              "\n",
              "    .colab-df-convert:hover {\n",
              "      background-color: #E2EBFA;\n",
              "      box-shadow: 0px 1px 2px rgba(60, 64, 67, 0.3), 0px 1px 3px 1px rgba(60, 64, 67, 0.15);\n",
              "      fill: #174EA6;\n",
              "    }\n",
              "\n",
              "    .colab-df-buttons div {\n",
              "      margin-bottom: 4px;\n",
              "    }\n",
              "\n",
              "    [theme=dark] .colab-df-convert {\n",
              "      background-color: #3B4455;\n",
              "      fill: #D2E3FC;\n",
              "    }\n",
              "\n",
              "    [theme=dark] .colab-df-convert:hover {\n",
              "      background-color: #434B5C;\n",
              "      box-shadow: 0px 1px 3px 1px rgba(0, 0, 0, 0.15);\n",
              "      filter: drop-shadow(0px 1px 2px rgba(0, 0, 0, 0.3));\n",
              "      fill: #FFFFFF;\n",
              "    }\n",
              "  </style>\n",
              "\n",
              "    <script>\n",
              "      const buttonEl =\n",
              "        document.querySelector('#df-95674774-201d-4dcb-aa9c-308090a1f4ce button.colab-df-convert');\n",
              "      buttonEl.style.display =\n",
              "        google.colab.kernel.accessAllowed ? 'block' : 'none';\n",
              "\n",
              "      async function convertToInteractive(key) {\n",
              "        const element = document.querySelector('#df-95674774-201d-4dcb-aa9c-308090a1f4ce');\n",
              "        const dataTable =\n",
              "          await google.colab.kernel.invokeFunction('convertToInteractive',\n",
              "                                                    [key], {});\n",
              "        if (!dataTable) return;\n",
              "\n",
              "        const docLinkHtml = 'Like what you see? Visit the ' +\n",
              "          '<a target=\"_blank\" href=https://colab.research.google.com/notebooks/data_table.ipynb>data table notebook</a>'\n",
              "          + ' to learn more about interactive tables.';\n",
              "        element.innerHTML = '';\n",
              "        dataTable['output_type'] = 'display_data';\n",
              "        await google.colab.output.renderOutput(dataTable, element);\n",
              "        const docLink = document.createElement('div');\n",
              "        docLink.innerHTML = docLinkHtml;\n",
              "        element.appendChild(docLink);\n",
              "      }\n",
              "    </script>\n",
              "  </div>\n",
              "\n",
              "\n",
              "    <div id=\"df-b8ee0a79-f05f-4574-9c3c-d4e157f01be0\">\n",
              "      <button class=\"colab-df-quickchart\" onclick=\"quickchart('df-b8ee0a79-f05f-4574-9c3c-d4e157f01be0')\"\n",
              "                title=\"Suggest charts\"\n",
              "                style=\"display:none;\">\n",
              "\n",
              "<svg xmlns=\"http://www.w3.org/2000/svg\" height=\"24px\"viewBox=\"0 0 24 24\"\n",
              "     width=\"24px\">\n",
              "    <g>\n",
              "        <path d=\"M19 3H5c-1.1 0-2 .9-2 2v14c0 1.1.9 2 2 2h14c1.1 0 2-.9 2-2V5c0-1.1-.9-2-2-2zM9 17H7v-7h2v7zm4 0h-2V7h2v10zm4 0h-2v-4h2v4z\"/>\n",
              "    </g>\n",
              "</svg>\n",
              "      </button>\n",
              "\n",
              "<style>\n",
              "  .colab-df-quickchart {\n",
              "      --bg-color: #E8F0FE;\n",
              "      --fill-color: #1967D2;\n",
              "      --hover-bg-color: #E2EBFA;\n",
              "      --hover-fill-color: #174EA6;\n",
              "      --disabled-fill-color: #AAA;\n",
              "      --disabled-bg-color: #DDD;\n",
              "  }\n",
              "\n",
              "  [theme=dark] .colab-df-quickchart {\n",
              "      --bg-color: #3B4455;\n",
              "      --fill-color: #D2E3FC;\n",
              "      --hover-bg-color: #434B5C;\n",
              "      --hover-fill-color: #FFFFFF;\n",
              "      --disabled-bg-color: #3B4455;\n",
              "      --disabled-fill-color: #666;\n",
              "  }\n",
              "\n",
              "  .colab-df-quickchart {\n",
              "    background-color: var(--bg-color);\n",
              "    border: none;\n",
              "    border-radius: 50%;\n",
              "    cursor: pointer;\n",
              "    display: none;\n",
              "    fill: var(--fill-color);\n",
              "    height: 32px;\n",
              "    padding: 0;\n",
              "    width: 32px;\n",
              "  }\n",
              "\n",
              "  .colab-df-quickchart:hover {\n",
              "    background-color: var(--hover-bg-color);\n",
              "    box-shadow: 0 1px 2px rgba(60, 64, 67, 0.3), 0 1px 3px 1px rgba(60, 64, 67, 0.15);\n",
              "    fill: var(--button-hover-fill-color);\n",
              "  }\n",
              "\n",
              "  .colab-df-quickchart-complete:disabled,\n",
              "  .colab-df-quickchart-complete:disabled:hover {\n",
              "    background-color: var(--disabled-bg-color);\n",
              "    fill: var(--disabled-fill-color);\n",
              "    box-shadow: none;\n",
              "  }\n",
              "\n",
              "  .colab-df-spinner {\n",
              "    border: 2px solid var(--fill-color);\n",
              "    border-color: transparent;\n",
              "    border-bottom-color: var(--fill-color);\n",
              "    animation:\n",
              "      spin 1s steps(1) infinite;\n",
              "  }\n",
              "\n",
              "  @keyframes spin {\n",
              "    0% {\n",
              "      border-color: transparent;\n",
              "      border-bottom-color: var(--fill-color);\n",
              "      border-left-color: var(--fill-color);\n",
              "    }\n",
              "    20% {\n",
              "      border-color: transparent;\n",
              "      border-left-color: var(--fill-color);\n",
              "      border-top-color: var(--fill-color);\n",
              "    }\n",
              "    30% {\n",
              "      border-color: transparent;\n",
              "      border-left-color: var(--fill-color);\n",
              "      border-top-color: var(--fill-color);\n",
              "      border-right-color: var(--fill-color);\n",
              "    }\n",
              "    40% {\n",
              "      border-color: transparent;\n",
              "      border-right-color: var(--fill-color);\n",
              "      border-top-color: var(--fill-color);\n",
              "    }\n",
              "    60% {\n",
              "      border-color: transparent;\n",
              "      border-right-color: var(--fill-color);\n",
              "    }\n",
              "    80% {\n",
              "      border-color: transparent;\n",
              "      border-right-color: var(--fill-color);\n",
              "      border-bottom-color: var(--fill-color);\n",
              "    }\n",
              "    90% {\n",
              "      border-color: transparent;\n",
              "      border-bottom-color: var(--fill-color);\n",
              "    }\n",
              "  }\n",
              "</style>\n",
              "\n",
              "      <script>\n",
              "        async function quickchart(key) {\n",
              "          const quickchartButtonEl =\n",
              "            document.querySelector('#' + key + ' button');\n",
              "          quickchartButtonEl.disabled = true;  // To prevent multiple clicks.\n",
              "          quickchartButtonEl.classList.add('colab-df-spinner');\n",
              "          try {\n",
              "            const charts = await google.colab.kernel.invokeFunction(\n",
              "                'suggestCharts', [key], {});\n",
              "          } catch (error) {\n",
              "            console.error('Error during call to suggestCharts:', error);\n",
              "          }\n",
              "          quickchartButtonEl.classList.remove('colab-df-spinner');\n",
              "          quickchartButtonEl.classList.add('colab-df-quickchart-complete');\n",
              "        }\n",
              "        (() => {\n",
              "          let quickchartButtonEl =\n",
              "            document.querySelector('#df-b8ee0a79-f05f-4574-9c3c-d4e157f01be0 button');\n",
              "          quickchartButtonEl.style.display =\n",
              "            google.colab.kernel.accessAllowed ? 'block' : 'none';\n",
              "        })();\n",
              "      </script>\n",
              "    </div>\n",
              "\n",
              "    </div>\n",
              "  </div>\n"
            ],
            "application/vnd.google.colaboratory.intrinsic+json": {
              "type": "dataframe",
              "variable_name": "data",
              "summary": "{\n  \"name\": \"data\",\n  \"rows\": 1904,\n  \"fields\": [\n    {\n      \"column\": [\n        \"Date\",\n        \"\"\n      ],\n      \"properties\": {\n        \"dtype\": \"date\",\n        \"min\": \"2018-01-02 00:00:00\",\n        \"max\": \"2025-07-30 00:00:00\",\n        \"num_unique_values\": 1904,\n        \"samples\": [\n          \"2022-11-11 00:00:00\",\n          \"2018-06-12 00:00:00\",\n          \"2020-03-17 00:00:00\"\n        ],\n        \"semantic_type\": \"\",\n        \"description\": \"\"\n      }\n    },\n    {\n      \"column\": [\n        \"Close\",\n        \"AAPL\"\n      ],\n      \"properties\": {\n        \"dtype\": \"number\",\n        \"std\": 62.23338956641257,\n        \"min\": 33.87084197998047,\n        \"max\": 258.39666748046875,\n        \"num_unique_values\": 1884,\n        \"samples\": [\n          225.25819396972656,\n          223.74349975585938,\n          121.13321685791016\n        ],\n        \"semantic_type\": \"\",\n        \"description\": \"\"\n      }\n    },\n    {\n      \"column\": [\n        \"High\",\n        \"AAPL\"\n      ],\n      \"properties\": {\n        \"dtype\": \"number\",\n        \"std\": 62.79165191460332,\n        \"min\": 34.71171706817353,\n        \"max\": 259.47408555117545,\n        \"num_unique_values\": 1904,\n        \"samples\": [\n          148.09167786414133,\n          45.56197549157033,\n          62.43466692909921\n        ],\n        \"semantic_type\": \"\",\n        \"description\": \"\"\n      }\n    },\n    {\n      \"column\": [\n        \"Low\",\n        \"AAPL\"\n      ],\n      \"properties\": {\n        \"dtype\": \"number\",\n        \"std\": 61.59407325585945,\n        \"min\": 33.82558181711259,\n        \"max\": 257.0100282923795,\n        \"num_unique_values\": 1904,\n        \"samples\": [\n          142.5238023668343,\n          45.21661029815384,\n          57.77891021775957\n        ],\n        \"semantic_type\": \"\",\n        \"description\": \"\"\n      }\n    },\n    {\n      \"column\": [\n        \"Open\",\n        \"AAPL\"\n      ],\n      \"properties\": {\n        \"dtype\": \"number\",\n        \"std\": 62.1680477734881,\n        \"min\": 34.297233278235176,\n        \"max\": 257.56867823862046,\n        \"num_unique_values\": 1902,\n        \"samples\": [\n          136.72887901579847,\n          45.273383697056964,\n          59.98682095947624\n        ],\n        \"semantic_type\": \"\",\n        \"description\": \"\"\n      }\n    },\n    {\n      \"column\": [\n        \"Volume\",\n        \"AAPL\"\n      ],\n      \"properties\": {\n        \"dtype\": \"number\",\n        \"std\": 54704763,\n        \"min\": 23234700,\n        \"max\": 426510000,\n        \"num_unique_values\": 1900,\n        \"samples\": [\n          73374100,\n          67644400,\n          300233600\n        ],\n        \"semantic_type\": \"\",\n        \"description\": \"\"\n      }\n    }\n  ]\n}"
            }
          },
          "metadata": {},
          "execution_count": 6
        }
      ]
    },
    {
      "cell_type": "code",
      "source": [
        "# Verifica as informações do dataframe\n",
        "data.info()"
      ],
      "metadata": {
        "colab": {
          "base_uri": "https://localhost:8080/"
        },
        "id": "zjwpAM5OEp26",
        "outputId": "7384fde5-aff0-46ce-c24b-3deb98edec7e"
      },
      "execution_count": 7,
      "outputs": [
        {
          "output_type": "stream",
          "name": "stdout",
          "text": [
            "<class 'pandas.core.frame.DataFrame'>\n",
            "DatetimeIndex: 1904 entries, 2018-01-02 to 2025-07-30\n",
            "Data columns (total 5 columns):\n",
            " #   Column          Non-Null Count  Dtype  \n",
            "---  ------          --------------  -----  \n",
            " 0   (Close, AAPL)   1904 non-null   float64\n",
            " 1   (High, AAPL)    1904 non-null   float64\n",
            " 2   (Low, AAPL)     1904 non-null   float64\n",
            " 3   (Open, AAPL)    1904 non-null   float64\n",
            " 4   (Volume, AAPL)  1904 non-null   int64  \n",
            "dtypes: float64(4), int64(1)\n",
            "memory usage: 89.2 KB\n"
          ]
        }
      ]
    },
    {
      "cell_type": "code",
      "source": [
        "# Processa o dataframe para incluir apenas as datas e os preços de fechamento\n",
        "close_df = data[('Close', 'AAPL')].to_frame(name='Close')\n",
        "\n",
        "close_df.head()"
      ],
      "metadata": {
        "colab": {
          "base_uri": "https://localhost:8080/",
          "height": 238
        },
        "id": "8Az_frc6E_DA",
        "outputId": "b0629467-37ad-4b38-fc87-a8068861088e"
      },
      "execution_count": 8,
      "outputs": [
        {
          "output_type": "execute_result",
          "data": {
            "text/plain": [
              "                Close\n",
              "Date                 \n",
              "2018-01-02  40.426819\n",
              "2018-01-03  40.419785\n",
              "2018-01-04  40.607536\n",
              "2018-01-05  41.069859\n",
              "2018-01-08  40.917324"
            ],
            "text/html": [
              "\n",
              "  <div id=\"df-bb77912b-ab59-4796-b429-b9bfbf7c02e7\" class=\"colab-df-container\">\n",
              "    <div>\n",
              "<style scoped>\n",
              "    .dataframe tbody tr th:only-of-type {\n",
              "        vertical-align: middle;\n",
              "    }\n",
              "\n",
              "    .dataframe tbody tr th {\n",
              "        vertical-align: top;\n",
              "    }\n",
              "\n",
              "    .dataframe thead th {\n",
              "        text-align: right;\n",
              "    }\n",
              "</style>\n",
              "<table border=\"1\" class=\"dataframe\">\n",
              "  <thead>\n",
              "    <tr style=\"text-align: right;\">\n",
              "      <th></th>\n",
              "      <th>Close</th>\n",
              "    </tr>\n",
              "    <tr>\n",
              "      <th>Date</th>\n",
              "      <th></th>\n",
              "    </tr>\n",
              "  </thead>\n",
              "  <tbody>\n",
              "    <tr>\n",
              "      <th>2018-01-02</th>\n",
              "      <td>40.426819</td>\n",
              "    </tr>\n",
              "    <tr>\n",
              "      <th>2018-01-03</th>\n",
              "      <td>40.419785</td>\n",
              "    </tr>\n",
              "    <tr>\n",
              "      <th>2018-01-04</th>\n",
              "      <td>40.607536</td>\n",
              "    </tr>\n",
              "    <tr>\n",
              "      <th>2018-01-05</th>\n",
              "      <td>41.069859</td>\n",
              "    </tr>\n",
              "    <tr>\n",
              "      <th>2018-01-08</th>\n",
              "      <td>40.917324</td>\n",
              "    </tr>\n",
              "  </tbody>\n",
              "</table>\n",
              "</div>\n",
              "    <div class=\"colab-df-buttons\">\n",
              "\n",
              "  <div class=\"colab-df-container\">\n",
              "    <button class=\"colab-df-convert\" onclick=\"convertToInteractive('df-bb77912b-ab59-4796-b429-b9bfbf7c02e7')\"\n",
              "            title=\"Convert this dataframe to an interactive table.\"\n",
              "            style=\"display:none;\">\n",
              "\n",
              "  <svg xmlns=\"http://www.w3.org/2000/svg\" height=\"24px\" viewBox=\"0 -960 960 960\">\n",
              "    <path d=\"M120-120v-720h720v720H120Zm60-500h600v-160H180v160Zm220 220h160v-160H400v160Zm0 220h160v-160H400v160ZM180-400h160v-160H180v160Zm440 0h160v-160H620v160ZM180-180h160v-160H180v160Zm440 0h160v-160H620v160Z\"/>\n",
              "  </svg>\n",
              "    </button>\n",
              "\n",
              "  <style>\n",
              "    .colab-df-container {\n",
              "      display:flex;\n",
              "      gap: 12px;\n",
              "    }\n",
              "\n",
              "    .colab-df-convert {\n",
              "      background-color: #E8F0FE;\n",
              "      border: none;\n",
              "      border-radius: 50%;\n",
              "      cursor: pointer;\n",
              "      display: none;\n",
              "      fill: #1967D2;\n",
              "      height: 32px;\n",
              "      padding: 0 0 0 0;\n",
              "      width: 32px;\n",
              "    }\n",
              "\n",
              "    .colab-df-convert:hover {\n",
              "      background-color: #E2EBFA;\n",
              "      box-shadow: 0px 1px 2px rgba(60, 64, 67, 0.3), 0px 1px 3px 1px rgba(60, 64, 67, 0.15);\n",
              "      fill: #174EA6;\n",
              "    }\n",
              "\n",
              "    .colab-df-buttons div {\n",
              "      margin-bottom: 4px;\n",
              "    }\n",
              "\n",
              "    [theme=dark] .colab-df-convert {\n",
              "      background-color: #3B4455;\n",
              "      fill: #D2E3FC;\n",
              "    }\n",
              "\n",
              "    [theme=dark] .colab-df-convert:hover {\n",
              "      background-color: #434B5C;\n",
              "      box-shadow: 0px 1px 3px 1px rgba(0, 0, 0, 0.15);\n",
              "      filter: drop-shadow(0px 1px 2px rgba(0, 0, 0, 0.3));\n",
              "      fill: #FFFFFF;\n",
              "    }\n",
              "  </style>\n",
              "\n",
              "    <script>\n",
              "      const buttonEl =\n",
              "        document.querySelector('#df-bb77912b-ab59-4796-b429-b9bfbf7c02e7 button.colab-df-convert');\n",
              "      buttonEl.style.display =\n",
              "        google.colab.kernel.accessAllowed ? 'block' : 'none';\n",
              "\n",
              "      async function convertToInteractive(key) {\n",
              "        const element = document.querySelector('#df-bb77912b-ab59-4796-b429-b9bfbf7c02e7');\n",
              "        const dataTable =\n",
              "          await google.colab.kernel.invokeFunction('convertToInteractive',\n",
              "                                                    [key], {});\n",
              "        if (!dataTable) return;\n",
              "\n",
              "        const docLinkHtml = 'Like what you see? Visit the ' +\n",
              "          '<a target=\"_blank\" href=https://colab.research.google.com/notebooks/data_table.ipynb>data table notebook</a>'\n",
              "          + ' to learn more about interactive tables.';\n",
              "        element.innerHTML = '';\n",
              "        dataTable['output_type'] = 'display_data';\n",
              "        await google.colab.output.renderOutput(dataTable, element);\n",
              "        const docLink = document.createElement('div');\n",
              "        docLink.innerHTML = docLinkHtml;\n",
              "        element.appendChild(docLink);\n",
              "      }\n",
              "    </script>\n",
              "  </div>\n",
              "\n",
              "\n",
              "    <div id=\"df-e0b9e9e2-f453-4af2-8e68-4ca53a97e104\">\n",
              "      <button class=\"colab-df-quickchart\" onclick=\"quickchart('df-e0b9e9e2-f453-4af2-8e68-4ca53a97e104')\"\n",
              "                title=\"Suggest charts\"\n",
              "                style=\"display:none;\">\n",
              "\n",
              "<svg xmlns=\"http://www.w3.org/2000/svg\" height=\"24px\"viewBox=\"0 0 24 24\"\n",
              "     width=\"24px\">\n",
              "    <g>\n",
              "        <path d=\"M19 3H5c-1.1 0-2 .9-2 2v14c0 1.1.9 2 2 2h14c1.1 0 2-.9 2-2V5c0-1.1-.9-2-2-2zM9 17H7v-7h2v7zm4 0h-2V7h2v10zm4 0h-2v-4h2v4z\"/>\n",
              "    </g>\n",
              "</svg>\n",
              "      </button>\n",
              "\n",
              "<style>\n",
              "  .colab-df-quickchart {\n",
              "      --bg-color: #E8F0FE;\n",
              "      --fill-color: #1967D2;\n",
              "      --hover-bg-color: #E2EBFA;\n",
              "      --hover-fill-color: #174EA6;\n",
              "      --disabled-fill-color: #AAA;\n",
              "      --disabled-bg-color: #DDD;\n",
              "  }\n",
              "\n",
              "  [theme=dark] .colab-df-quickchart {\n",
              "      --bg-color: #3B4455;\n",
              "      --fill-color: #D2E3FC;\n",
              "      --hover-bg-color: #434B5C;\n",
              "      --hover-fill-color: #FFFFFF;\n",
              "      --disabled-bg-color: #3B4455;\n",
              "      --disabled-fill-color: #666;\n",
              "  }\n",
              "\n",
              "  .colab-df-quickchart {\n",
              "    background-color: var(--bg-color);\n",
              "    border: none;\n",
              "    border-radius: 50%;\n",
              "    cursor: pointer;\n",
              "    display: none;\n",
              "    fill: var(--fill-color);\n",
              "    height: 32px;\n",
              "    padding: 0;\n",
              "    width: 32px;\n",
              "  }\n",
              "\n",
              "  .colab-df-quickchart:hover {\n",
              "    background-color: var(--hover-bg-color);\n",
              "    box-shadow: 0 1px 2px rgba(60, 64, 67, 0.3), 0 1px 3px 1px rgba(60, 64, 67, 0.15);\n",
              "    fill: var(--button-hover-fill-color);\n",
              "  }\n",
              "\n",
              "  .colab-df-quickchart-complete:disabled,\n",
              "  .colab-df-quickchart-complete:disabled:hover {\n",
              "    background-color: var(--disabled-bg-color);\n",
              "    fill: var(--disabled-fill-color);\n",
              "    box-shadow: none;\n",
              "  }\n",
              "\n",
              "  .colab-df-spinner {\n",
              "    border: 2px solid var(--fill-color);\n",
              "    border-color: transparent;\n",
              "    border-bottom-color: var(--fill-color);\n",
              "    animation:\n",
              "      spin 1s steps(1) infinite;\n",
              "  }\n",
              "\n",
              "  @keyframes spin {\n",
              "    0% {\n",
              "      border-color: transparent;\n",
              "      border-bottom-color: var(--fill-color);\n",
              "      border-left-color: var(--fill-color);\n",
              "    }\n",
              "    20% {\n",
              "      border-color: transparent;\n",
              "      border-left-color: var(--fill-color);\n",
              "      border-top-color: var(--fill-color);\n",
              "    }\n",
              "    30% {\n",
              "      border-color: transparent;\n",
              "      border-left-color: var(--fill-color);\n",
              "      border-top-color: var(--fill-color);\n",
              "      border-right-color: var(--fill-color);\n",
              "    }\n",
              "    40% {\n",
              "      border-color: transparent;\n",
              "      border-right-color: var(--fill-color);\n",
              "      border-top-color: var(--fill-color);\n",
              "    }\n",
              "    60% {\n",
              "      border-color: transparent;\n",
              "      border-right-color: var(--fill-color);\n",
              "    }\n",
              "    80% {\n",
              "      border-color: transparent;\n",
              "      border-right-color: var(--fill-color);\n",
              "      border-bottom-color: var(--fill-color);\n",
              "    }\n",
              "    90% {\n",
              "      border-color: transparent;\n",
              "      border-bottom-color: var(--fill-color);\n",
              "    }\n",
              "  }\n",
              "</style>\n",
              "\n",
              "      <script>\n",
              "        async function quickchart(key) {\n",
              "          const quickchartButtonEl =\n",
              "            document.querySelector('#' + key + ' button');\n",
              "          quickchartButtonEl.disabled = true;  // To prevent multiple clicks.\n",
              "          quickchartButtonEl.classList.add('colab-df-spinner');\n",
              "          try {\n",
              "            const charts = await google.colab.kernel.invokeFunction(\n",
              "                'suggestCharts', [key], {});\n",
              "          } catch (error) {\n",
              "            console.error('Error during call to suggestCharts:', error);\n",
              "          }\n",
              "          quickchartButtonEl.classList.remove('colab-df-spinner');\n",
              "          quickchartButtonEl.classList.add('colab-df-quickchart-complete');\n",
              "        }\n",
              "        (() => {\n",
              "          let quickchartButtonEl =\n",
              "            document.querySelector('#df-e0b9e9e2-f453-4af2-8e68-4ca53a97e104 button');\n",
              "          quickchartButtonEl.style.display =\n",
              "            google.colab.kernel.accessAllowed ? 'block' : 'none';\n",
              "        })();\n",
              "      </script>\n",
              "    </div>\n",
              "\n",
              "    </div>\n",
              "  </div>\n"
            ],
            "application/vnd.google.colaboratory.intrinsic+json": {
              "type": "dataframe",
              "variable_name": "close_df",
              "summary": "{\n  \"name\": \"close_df\",\n  \"rows\": 1904,\n  \"fields\": [\n    {\n      \"column\": \"Date\",\n      \"properties\": {\n        \"dtype\": \"date\",\n        \"min\": \"2018-01-02 00:00:00\",\n        \"max\": \"2025-07-30 00:00:00\",\n        \"num_unique_values\": 1904,\n        \"samples\": [\n          \"2022-11-11 00:00:00\",\n          \"2018-06-12 00:00:00\",\n          \"2020-03-17 00:00:00\"\n        ],\n        \"semantic_type\": \"\",\n        \"description\": \"\"\n      }\n    },\n    {\n      \"column\": \"Close\",\n      \"properties\": {\n        \"dtype\": \"number\",\n        \"std\": 62.23338956641257,\n        \"min\": 33.87084197998047,\n        \"max\": 258.39666748046875,\n        \"num_unique_values\": 1884,\n        \"samples\": [\n          225.25819396972656,\n          223.74349975585938,\n          121.13321685791016\n        ],\n        \"semantic_type\": \"\",\n        \"description\": \"\"\n      }\n    }\n  ]\n}"
            }
          },
          "metadata": {},
          "execution_count": 8
        }
      ]
    },
    {
      "cell_type": "markdown",
      "source": [
        "## 2.2 Visualização dos dados"
      ],
      "metadata": {
        "id": "2C67pWljFKHq"
      }
    },
    {
      "cell_type": "code",
      "source": [
        "import matplotlib.pyplot as plt\n",
        "\n",
        "plt.plot(close_df)\n",
        "plt.title('Preços de fechamento da AAPL')\n",
        "plt.xlabel('Data')\n",
        "plt.ylabel('Preço de fechamento (USD)')\n",
        "plt.grid(True)\n",
        "plt.show()"
      ],
      "metadata": {
        "colab": {
          "base_uri": "https://localhost:8080/",
          "height": 472
        },
        "id": "E-S0AYOqFIyQ",
        "outputId": "c5066250-1c62-4d0d-eecf-7a48c0eb82d0"
      },
      "execution_count": 9,
      "outputs": [
        {
          "output_type": "display_data",
          "data": {
            "text/plain": [
              "<Figure size 640x480 with 1 Axes>"
            ],
            "image/png": "[encoded data removed]"
          },
          "metadata": {}
        }
      ]
    },
    {
      "cell_type": "markdown",
      "source": [
        "## 2.3 O modelo ARIMA"
      ],
      "metadata": {
        "id": "8blqbvy8FWmx"
      }
    },
    {
      "cell_type": "code",
      "source": [
        "from statsmodels.tsa.arima.model import ARIMA\n",
        "\n",
        "# Divide os dados em treino e teste\n",
        "train_size = int(len(close_df) * 0.8)\n",
        "train_data, test_data = close_df[:train_size], close_df[train_size:]\n",
        "\n",
        "# Salva os índices de test_data\n",
        "test_data_indexes = test_data.index\n",
        "\n",
        "# Redefine os índices de train_data e teste_data como inteiros\n",
        "train_data = train_data.reset_index(drop=True)\n",
        "test_data = test_data.reset_index(drop=True)\n",
        "\n",
        "# Ajusta do modelo\n",
        "model = ARIMA(train_data, order=(4, 1, 1))\n",
        "model_fit = model.fit()\n",
        "\n",
        "# Faz predições acerca dos dados de teste\n",
        "predictions = model_fit.forecast(steps=len(test_data))"
      ],
      "metadata": {
        "id": "6LpQuK6SFUMA"
      },
      "execution_count": 11,
      "outputs": []
    },
    {
      "cell_type": "markdown",
      "source": [
        "### 2.3.1 Visualização da predição e métricas"
      ],
      "metadata": {
        "id": "GK_oEIdcFtui"
      }
    },
    {
      "cell_type": "code",
      "source": [
        "from sklearn.metrics import mean_squared_error, mean_absolute_error\n",
        "\n",
        "# Copia os indices de data do test_data para predictions\n",
        "predictions.index = test_data_indexes\n",
        "\n",
        "# Plota as predições junto dos dados reais\n",
        "plt.plot(close_df, label='Dados reais')\n",
        "plt.plot(predictions, label='Predição')\n",
        "plt.title('Preços de fechamento da AAPL')\n",
        "plt.xlabel('Data')\n",
        "plt.ylabel('Preço de fechamento (USD)')\n",
        "plt.legend()\n",
        "plt.grid(True)\n",
        "plt.show()\n",
        "\n",
        "# Calcula e imprime as métricas de avaliação\n",
        "mse = mean_squared_error(test_data, predictions)\n",
        "mae = mean_absolute_error(test_data, predictions)\n",
        "print(f'Erro Médio Quadrático (MSE): {mse}')\n",
        "print(f'Erro Médio Absoluto (MAE): {mae}')"
      ],
      "metadata": {
        "colab": {
          "base_uri": "https://localhost:8080/",
          "height": 507
        },
        "id": "ngumtaGcFzaQ",
        "outputId": "a7da2a3f-ac67-44af-da89-d521840bc86b"
      },
      "execution_count": 12,
      "outputs": [
        {
          "output_type": "display_data",
          "data": {
            "text/plain": [
              "<Figure size 640x480 with 1 Axes>"
            ],
            "image/png": "[encoded data removed]"
          },
          "metadata": {}
        },
        {
          "output_type": "stream",
          "name": "stdout",
          "text": [
            "Erro Médio Quadrático (MSE): 876.8625819073511\n",
            "Erro Médio Absoluto (MAE): 25.398620533069252\n"
          ]
        }
      ]
    },
    {
      "cell_type": "markdown",
      "source": [
        "### 2.3.2 Refinamento do modelo"
      ],
      "metadata": {
        "id": "CyZAM72iGP4o"
      }
    },
    {
      "cell_type": "code",
      "source": [
        "import itertools\n",
        "\n",
        "# Define um intervalo para os parâmetros (p,d,q)\n",
        "p = d = q = range(0, 5)\n",
        "\n",
        "# Gera todas as combinações possíveis para (p,d,q)\n",
        "parameters = list(itertools.product(p, d, q))\n",
        "\n",
        "# Imprime algumas das combinações para checagem\n",
        "print(parameters[:10])"
      ],
      "metadata": {
        "colab": {
          "base_uri": "https://localhost:8080/"
        },
        "id": "iyO0vx2lGIjy",
        "outputId": "132e8c96-25da-4b16-f01e-87b756e4374c"
      },
      "execution_count": 13,
      "outputs": [
        {
          "output_type": "stream",
          "name": "stdout",
          "text": [
            "[(0, 0, 0), (0, 0, 1), (0, 0, 2), (0, 0, 3), (0, 0, 4), (0, 1, 0), (0, 1, 1), (0, 1, 2), (0, 1, 3), (0, 1, 4)]\n"
          ]
        }
      ]
    },
    {
      "cell_type": "code",
      "source": [
        "# Cria lista de MSE (Erro Médio Quadrático) para cada conjunto de parâmetros\n",
        "mse_list = []\n",
        "\n",
        "# Percorre a lista de parametros\n",
        "for param in parameters:\n",
        "    # Tenta ajustar o modelo ARIMA\n",
        "    try:\n",
        "        # Notifica qual conjunto de parâmetros está sendo testado\n",
        "        print(f\"Parâmetros sendo testados: {param}\")\n",
        "\n",
        "        # Ajusta o modelo ARIMA\n",
        "        model = ARIMA(train_data, order=param)\n",
        "        model_fit = model.fit()\n",
        "\n",
        "        # Realiza a predição\n",
        "        predictions = model_fit.forecast(steps=len(test_data))\n",
        "\n",
        "        # Calcula o MSE e adiciona à lista\n",
        "        mse = mean_squared_error(test_data, predictions)\n",
        "        mse_list.append(mse)\n",
        "    except Exception as e:\n",
        "        print(f\"Error with parameters {param}: {e}\")"
      ],
      "metadata": {
        "colab": {
          "base_uri": "https://localhost:8080/"
        },
        "id": "1mtksvDPGlOy",
        "outputId": "2e53e474-2bfe-47d4-cf08-80122be22161"
      },
      "execution_count": 14,
      "outputs": [
        {
          "output_type": "stream",
          "name": "stdout",
          "text": [
            "Parâmetros sendo testados: (0, 0, 0)\n",
            "Parâmetros sendo testados: (0, 0, 1)\n",
            "Parâmetros sendo testados: (0, 0, 2)\n",
            "Parâmetros sendo testados: (0, 0, 3)\n",
            "Parâmetros sendo testados: (0, 0, 4)\n",
            "Parâmetros sendo testados: (0, 1, 0)\n",
            "Parâmetros sendo testados: (0, 1, 1)\n",
            "Parâmetros sendo testados: (0, 1, 2)\n",
            "Parâmetros sendo testados: (0, 1, 3)\n",
            "Parâmetros sendo testados: (0, 1, 4)\n",
            "Parâmetros sendo testados: (0, 2, 0)\n",
            "Parâmetros sendo testados: (0, 2, 1)\n",
            "Parâmetros sendo testados: (0, 2, 2)\n",
            "Parâmetros sendo testados: (0, 2, 3)\n",
            "Parâmetros sendo testados: (0, 2, 4)\n",
            "Parâmetros sendo testados: (0, 3, 0)\n",
            "Parâmetros sendo testados: (0, 3, 1)\n"
          ]
        },
        {
          "output_type": "stream",
          "name": "stderr",
          "text": [
            "UserWarning: Non-invertible starting MA parameters found. Using zeros as starting parameters.\n"
          ]
        },
        {
          "output_type": "stream",
          "name": "stdout",
          "text": [
            "Parâmetros sendo testados: (0, 3, 2)\n"
          ]
        },
        {
          "output_type": "stream",
          "name": "stderr",
          "text": [
            "UserWarning: Non-invertible starting MA parameters found. Using zeros as starting parameters.\n"
          ]
        },
        {
          "output_type": "stream",
          "name": "stdout",
          "text": [
            "Parâmetros sendo testados: (0, 3, 3)\n"
          ]
        },
        {
          "output_type": "stream",
          "name": "stderr",
          "text": [
            "UserWarning: Non-invertible starting MA parameters found. Using zeros as starting parameters.\n"
          ]
        },
        {
          "output_type": "stream",
          "name": "stdout",
          "text": [
            "Parâmetros sendo testados: (0, 3, 4)\n"
          ]
        },
        {
          "output_type": "stream",
          "name": "stderr",
          "text": [
            "UserWarning: Non-invertible starting MA parameters found. Using zeros as starting parameters.\n"
          ]
        },
        {
          "output_type": "stream",
          "name": "stdout",
          "text": [
            "Parâmetros sendo testados: (0, 4, 0)\n",
            "Parâmetros sendo testados: (0, 4, 1)\n"
          ]
        },
        {
          "output_type": "stream",
          "name": "stderr",
          "text": [
            "UserWarning: Non-invertible starting MA parameters found. Using zeros as starting parameters.\n"
          ]
        },
        {
          "output_type": "stream",
          "name": "stdout",
          "text": [
            "Parâmetros sendo testados: (0, 4, 2)\n",
            "Parâmetros sendo testados: (0, 4, 3)\n"
          ]
        },
        {
          "output_type": "stream",
          "name": "stderr",
          "text": [
            "UserWarning: Non-invertible starting MA parameters found. Using zeros as starting parameters.\n",
            "ConvergenceWarning: Maximum Likelihood optimization failed to converge. Check mle_retvals\n",
            "UserWarning: Non-invertible starting MA parameters found. Using zeros as starting parameters.\n"
          ]
        },
        {
          "output_type": "stream",
          "name": "stdout",
          "text": [
            "Parâmetros sendo testados: (0, 4, 4)\n"
          ]
        },
        {
          "output_type": "stream",
          "name": "stderr",
          "text": [
            "ConvergenceWarning: Maximum Likelihood optimization failed to converge. Check mle_retvals\n"
          ]
        },
        {
          "output_type": "stream",
          "name": "stdout",
          "text": [
            "Parâmetros sendo testados: (1, 0, 0)\n",
            "Parâmetros sendo testados: (1, 0, 1)\n",
            "Parâmetros sendo testados: (1, 0, 2)\n",
            "Parâmetros sendo testados: (1, 0, 3)\n",
            "Parâmetros sendo testados: (1, 0, 4)\n",
            "Parâmetros sendo testados: (1, 1, 0)\n",
            "Parâmetros sendo testados: (1, 1, 1)\n",
            "Parâmetros sendo testados: (1, 1, 2)\n",
            "Parâmetros sendo testados: (1, 1, 3)\n",
            "Parâmetros sendo testados: (1, 1, 4)\n"
          ]
        },
        {
          "output_type": "stream",
          "name": "stderr",
          "text": [
            "UserWarning: Non-stationary starting autoregressive parameters found. Using zeros as starting parameters.\n",
            "UserWarning: Non-invertible starting MA parameters found. Using zeros as starting parameters.\n"
          ]
        },
        {
          "output_type": "stream",
          "name": "stdout",
          "text": [
            "Parâmetros sendo testados: (1, 2, 0)\n",
            "Parâmetros sendo testados: (1, 2, 1)\n",
            "Parâmetros sendo testados: (1, 2, 2)\n",
            "Parâmetros sendo testados: (1, 2, 3)\n"
          ]
        },
        {
          "output_type": "stream",
          "name": "stderr",
          "text": [
            "UserWarning: Non-stationary starting autoregressive parameters found. Using zeros as starting parameters.\n",
            "UserWarning: Non-invertible starting MA parameters found. Using zeros as starting parameters.\n"
          ]
        },
        {
          "output_type": "stream",
          "name": "stdout",
          "text": [
            "Parâmetros sendo testados: (1, 2, 4)\n",
            "Parâmetros sendo testados: (1, 3, 0)\n",
            "Parâmetros sendo testados: (1, 3, 1)\n",
            "Parâmetros sendo testados: (1, 3, 2)\n"
          ]
        },
        {
          "output_type": "stream",
          "name": "stderr",
          "text": [
            "UserWarning: Non-invertible starting MA parameters found. Using zeros as starting parameters.\n"
          ]
        },
        {
          "output_type": "stream",
          "name": "stdout",
          "text": [
            "Parâmetros sendo testados: (1, 3, 3)\n"
          ]
        },
        {
          "output_type": "stream",
          "name": "stderr",
          "text": [
            "UserWarning: Non-invertible starting MA parameters found. Using zeros as starting parameters.\n"
          ]
        },
        {
          "output_type": "stream",
          "name": "stdout",
          "text": [
            "Parâmetros sendo testados: (1, 3, 4)\n"
          ]
        },
        {
          "output_type": "stream",
          "name": "stderr",
          "text": [
            "UserWarning: Non-invertible starting MA parameters found. Using zeros as starting parameters.\n"
          ]
        },
        {
          "output_type": "stream",
          "name": "stdout",
          "text": [
            "Parâmetros sendo testados: (1, 4, 0)\n",
            "Parâmetros sendo testados: (1, 4, 1)\n"
          ]
        },
        {
          "output_type": "stream",
          "name": "stderr",
          "text": [
            "UserWarning: Non-invertible starting MA parameters found. Using zeros as starting parameters.\n"
          ]
        },
        {
          "output_type": "stream",
          "name": "stdout",
          "text": [
            "Parâmetros sendo testados: (1, 4, 2)\n"
          ]
        },
        {
          "output_type": "stream",
          "name": "stderr",
          "text": [
            "UserWarning: Non-invertible starting MA parameters found. Using zeros as starting parameters.\n"
          ]
        },
        {
          "output_type": "stream",
          "name": "stdout",
          "text": [
            "Parâmetros sendo testados: (1, 4, 3)\n",
            "Parâmetros sendo testados: (1, 4, 4)\n"
          ]
        },
        {
          "output_type": "stream",
          "name": "stderr",
          "text": [
            "UserWarning: Non-invertible starting MA parameters found. Using zeros as starting parameters.\n",
            "ConvergenceWarning: Maximum Likelihood optimization failed to converge. Check mle_retvals\n"
          ]
        },
        {
          "output_type": "stream",
          "name": "stdout",
          "text": [
            "Parâmetros sendo testados: (2, 0, 0)\n",
            "Parâmetros sendo testados: (2, 0, 1)\n",
            "Parâmetros sendo testados: (2, 0, 2)\n",
            "Parâmetros sendo testados: (2, 0, 3)\n",
            "Parâmetros sendo testados: (2, 0, 4)\n"
          ]
        },
        {
          "output_type": "stream",
          "name": "stderr",
          "text": [
            "UserWarning: Non-stationary starting autoregressive parameters found. Using zeros as starting parameters.\n",
            "UserWarning: Non-invertible starting MA parameters found. Using zeros as starting parameters.\n"
          ]
        },
        {
          "output_type": "stream",
          "name": "stdout",
          "text": [
            "Parâmetros sendo testados: (2, 1, 0)\n",
            "Parâmetros sendo testados: (2, 1, 1)\n",
            "Parâmetros sendo testados: (2, 1, 2)\n"
          ]
        },
        {
          "output_type": "stream",
          "name": "stderr",
          "text": [
            "UserWarning: Non-stationary starting autoregressive parameters found. Using zeros as starting parameters.\n",
            "UserWarning: Non-invertible starting MA parameters found. Using zeros as starting parameters.\n"
          ]
        },
        {
          "output_type": "stream",
          "name": "stdout",
          "text": [
            "Parâmetros sendo testados: (2, 1, 3)\n"
          ]
        },
        {
          "output_type": "stream",
          "name": "stderr",
          "text": [
            "UserWarning: Non-stationary starting autoregressive parameters found. Using zeros as starting parameters.\n",
            "UserWarning: Non-invertible starting MA parameters found. Using zeros as starting parameters.\n",
            "ConvergenceWarning: Maximum Likelihood optimization failed to converge. Check mle_retvals\n",
            "UserWarning: Non-stationary starting autoregressive parameters found. Using zeros as starting parameters.\n",
            "UserWarning: Non-invertible starting MA parameters found. Using zeros as starting parameters.\n"
          ]
        },
        {
          "output_type": "stream",
          "name": "stdout",
          "text": [
            "Parâmetros sendo testados: (2, 1, 4)\n",
            "Parâmetros sendo testados: (2, 2, 0)\n",
            "Parâmetros sendo testados: (2, 2, 1)\n",
            "Parâmetros sendo testados: (2, 2, 2)\n",
            "Parâmetros sendo testados: (2, 2, 3)\n",
            "Parâmetros sendo testados: (2, 2, 4)\n",
            "Parâmetros sendo testados: (2, 3, 0)\n",
            "Parâmetros sendo testados: (2, 3, 1)\n",
            "Parâmetros sendo testados: (2, 3, 2)\n"
          ]
        },
        {
          "output_type": "stream",
          "name": "stderr",
          "text": [
            "UserWarning: Non-invertible starting MA parameters found. Using zeros as starting parameters.\n"
          ]
        },
        {
          "output_type": "stream",
          "name": "stdout",
          "text": [
            "Parâmetros sendo testados: (2, 3, 3)\n"
          ]
        },
        {
          "output_type": "stream",
          "name": "stderr",
          "text": [
            "UserWarning: Non-invertible starting MA parameters found. Using zeros as starting parameters.\n"
          ]
        },
        {
          "output_type": "stream",
          "name": "stdout",
          "text": [
            "Parâmetros sendo testados: (2, 3, 4)\n"
          ]
        },
        {
          "output_type": "stream",
          "name": "stderr",
          "text": [
            "UserWarning: Non-invertible starting MA parameters found. Using zeros as starting parameters.\n"
          ]
        },
        {
          "output_type": "stream",
          "name": "stdout",
          "text": [
            "Parâmetros sendo testados: (2, 4, 0)\n",
            "Parâmetros sendo testados: (2, 4, 1)\n",
            "Parâmetros sendo testados: (2, 4, 2)\n"
          ]
        },
        {
          "output_type": "stream",
          "name": "stderr",
          "text": [
            "UserWarning: Non-invertible starting MA parameters found. Using zeros as starting parameters.\n"
          ]
        },
        {
          "output_type": "stream",
          "name": "stdout",
          "text": [
            "Parâmetros sendo testados: (2, 4, 3)\n"
          ]
        },
        {
          "output_type": "stream",
          "name": "stderr",
          "text": [
            "UserWarning: Non-invertible starting MA parameters found. Using zeros as starting parameters.\n",
            "ConvergenceWarning: Maximum Likelihood optimization failed to converge. Check mle_retvals\n",
            "UserWarning: Non-invertible starting MA parameters found. Using zeros as starting parameters.\n"
          ]
        },
        {
          "output_type": "stream",
          "name": "stdout",
          "text": [
            "Parâmetros sendo testados: (2, 4, 4)\n",
            "Parâmetros sendo testados: (3, 0, 0)\n",
            "Parâmetros sendo testados: (3, 0, 1)\n",
            "Parâmetros sendo testados: (3, 0, 2)\n"
          ]
        },
        {
          "output_type": "stream",
          "name": "stderr",
          "text": [
            "UserWarning: Non-stationary starting autoregressive parameters found. Using zeros as starting parameters.\n",
            "UserWarning: Non-invertible starting MA parameters found. Using zeros as starting parameters.\n",
            "ConvergenceWarning: Maximum Likelihood optimization failed to converge. Check mle_retvals\n",
            "UserWarning: Non-stationary starting autoregressive parameters found. Using zeros as starting parameters.\n",
            "UserWarning: Non-invertible starting MA parameters found. Using zeros as starting parameters.\n"
          ]
        },
        {
          "output_type": "stream",
          "name": "stdout",
          "text": [
            "Parâmetros sendo testados: (3, 0, 3)\n"
          ]
        },
        {
          "output_type": "stream",
          "name": "stderr",
          "text": [
            "ConvergenceWarning: Maximum Likelihood optimization failed to converge. Check mle_retvals\n",
            "UserWarning: Non-stationary starting autoregressive parameters found. Using zeros as starting parameters.\n",
            "UserWarning: Non-invertible starting MA parameters found. Using zeros as starting parameters.\n"
          ]
        },
        {
          "output_type": "stream",
          "name": "stdout",
          "text": [
            "Parâmetros sendo testados: (3, 0, 4)\n"
          ]
        },
        {
          "output_type": "stream",
          "name": "stderr",
          "text": [
            "ConvergenceWarning: Maximum Likelihood optimization failed to converge. Check mle_retvals\n"
          ]
        },
        {
          "output_type": "stream",
          "name": "stdout",
          "text": [
            "Parâmetros sendo testados: (3, 1, 0)\n",
            "Parâmetros sendo testados: (3, 1, 1)\n",
            "Parâmetros sendo testados: (3, 1, 2)\n"
          ]
        },
        {
          "output_type": "stream",
          "name": "stderr",
          "text": [
            "UserWarning: Non-stationary starting autoregressive parameters found. Using zeros as starting parameters.\n",
            "UserWarning: Non-invertible starting MA parameters found. Using zeros as starting parameters.\n",
            "ConvergenceWarning: Maximum Likelihood optimization failed to converge. Check mle_retvals\n",
            "UserWarning: Non-stationary starting autoregressive parameters found. Using zeros as starting parameters.\n",
            "UserWarning: Non-invertible starting MA parameters found. Using zeros as starting parameters.\n"
          ]
        },
        {
          "output_type": "stream",
          "name": "stdout",
          "text": [
            "Parâmetros sendo testados: (3, 1, 3)\n"
          ]
        },
        {
          "output_type": "stream",
          "name": "stderr",
          "text": [
            "ConvergenceWarning: Maximum Likelihood optimization failed to converge. Check mle_retvals\n",
            "UserWarning: Non-stationary starting autoregressive parameters found. Using zeros as starting parameters.\n",
            "UserWarning: Non-invertible starting MA parameters found. Using zeros as starting parameters.\n"
          ]
        },
        {
          "output_type": "stream",
          "name": "stdout",
          "text": [
            "Parâmetros sendo testados: (3, 1, 4)\n"
          ]
        },
        {
          "output_type": "stream",
          "name": "stderr",
          "text": [
            "ConvergenceWarning: Maximum Likelihood optimization failed to converge. Check mle_retvals\n"
          ]
        },
        {
          "output_type": "stream",
          "name": "stdout",
          "text": [
            "Parâmetros sendo testados: (3, 2, 0)\n",
            "Parâmetros sendo testados: (3, 2, 1)\n",
            "Parâmetros sendo testados: (3, 2, 2)\n",
            "Parâmetros sendo testados: (3, 2, 3)\n",
            "Parâmetros sendo testados: (3, 2, 4)\n"
          ]
        },
        {
          "output_type": "stream",
          "name": "stderr",
          "text": [
            "ConvergenceWarning: Maximum Likelihood optimization failed to converge. Check mle_retvals\n"
          ]
        },
        {
          "output_type": "stream",
          "name": "stdout",
          "text": [
            "Parâmetros sendo testados: (3, 3, 0)\n",
            "Parâmetros sendo testados: (3, 3, 1)\n",
            "Parâmetros sendo testados: (3, 3, 2)\n"
          ]
        },
        {
          "output_type": "stream",
          "name": "stderr",
          "text": [
            "UserWarning: Non-invertible starting MA parameters found. Using zeros as starting parameters.\n",
            "ConvergenceWarning: Maximum Likelihood optimization failed to converge. Check mle_retvals\n",
            "UserWarning: Non-invertible starting MA parameters found. Using zeros as starting parameters.\n"
          ]
        },
        {
          "output_type": "stream",
          "name": "stdout",
          "text": [
            "Parâmetros sendo testados: (3, 3, 3)\n",
            "Parâmetros sendo testados: (3, 3, 4)\n"
          ]
        },
        {
          "output_type": "stream",
          "name": "stderr",
          "text": [
            "UserWarning: Non-invertible starting MA parameters found. Using zeros as starting parameters.\n",
            "ConvergenceWarning: Maximum Likelihood optimization failed to converge. Check mle_retvals\n"
          ]
        },
        {
          "output_type": "stream",
          "name": "stdout",
          "text": [
            "Parâmetros sendo testados: (3, 4, 0)\n",
            "Parâmetros sendo testados: (3, 4, 1)\n",
            "Parâmetros sendo testados: (3, 4, 2)\n"
          ]
        },
        {
          "output_type": "stream",
          "name": "stderr",
          "text": [
            "UserWarning: Non-invertible starting MA parameters found. Using zeros as starting parameters.\n"
          ]
        },
        {
          "output_type": "stream",
          "name": "stdout",
          "text": [
            "Parâmetros sendo testados: (3, 4, 3)\n"
          ]
        },
        {
          "output_type": "stream",
          "name": "stderr",
          "text": [
            "UserWarning: Non-invertible starting MA parameters found. Using zeros as starting parameters.\n"
          ]
        },
        {
          "output_type": "stream",
          "name": "stdout",
          "text": [
            "Parâmetros sendo testados: (3, 4, 4)\n"
          ]
        },
        {
          "output_type": "stream",
          "name": "stderr",
          "text": [
            "UserWarning: Non-invertible starting MA parameters found. Using zeros as starting parameters.\n",
            "ConvergenceWarning: Maximum Likelihood optimization failed to converge. Check mle_retvals\n"
          ]
        },
        {
          "output_type": "stream",
          "name": "stdout",
          "text": [
            "Parâmetros sendo testados: (4, 0, 0)\n",
            "Parâmetros sendo testados: (4, 0, 1)\n",
            "Parâmetros sendo testados: (4, 0, 2)\n"
          ]
        },
        {
          "output_type": "stream",
          "name": "stderr",
          "text": [
            "UserWarning: Non-stationary starting autoregressive parameters found. Using zeros as starting parameters.\n",
            "UserWarning: Non-invertible starting MA parameters found. Using zeros as starting parameters.\n",
            "ConvergenceWarning: Maximum Likelihood optimization failed to converge. Check mle_retvals\n",
            "UserWarning: Non-stationary starting autoregressive parameters found. Using zeros as starting parameters.\n",
            "UserWarning: Non-invertible starting MA parameters found. Using zeros as starting parameters.\n"
          ]
        },
        {
          "output_type": "stream",
          "name": "stdout",
          "text": [
            "Parâmetros sendo testados: (4, 0, 3)\n"
          ]
        },
        {
          "output_type": "stream",
          "name": "stderr",
          "text": [
            "ConvergenceWarning: Maximum Likelihood optimization failed to converge. Check mle_retvals\n",
            "UserWarning: Non-stationary starting autoregressive parameters found. Using zeros as starting parameters.\n",
            "UserWarning: Non-invertible starting MA parameters found. Using zeros as starting parameters.\n"
          ]
        },
        {
          "output_type": "stream",
          "name": "stdout",
          "text": [
            "Parâmetros sendo testados: (4, 0, 4)\n"
          ]
        },
        {
          "output_type": "stream",
          "name": "stderr",
          "text": [
            "ConvergenceWarning: Maximum Likelihood optimization failed to converge. Check mle_retvals\n"
          ]
        },
        {
          "output_type": "stream",
          "name": "stdout",
          "text": [
            "Parâmetros sendo testados: (4, 1, 0)\n",
            "Parâmetros sendo testados: (4, 1, 1)\n",
            "Parâmetros sendo testados: (4, 1, 2)\n"
          ]
        },
        {
          "output_type": "stream",
          "name": "stderr",
          "text": [
            "UserWarning: Non-stationary starting autoregressive parameters found. Using zeros as starting parameters.\n",
            "UserWarning: Non-invertible starting MA parameters found. Using zeros as starting parameters.\n",
            "ConvergenceWarning: Maximum Likelihood optimization failed to converge. Check mle_retvals\n",
            "UserWarning: Non-stationary starting autoregressive parameters found. Using zeros as starting parameters.\n",
            "UserWarning: Non-invertible starting MA parameters found. Using zeros as starting parameters.\n"
          ]
        },
        {
          "output_type": "stream",
          "name": "stdout",
          "text": [
            "Parâmetros sendo testados: (4, 1, 3)\n"
          ]
        },
        {
          "output_type": "stream",
          "name": "stderr",
          "text": [
            "ConvergenceWarning: Maximum Likelihood optimization failed to converge. Check mle_retvals\n",
            "UserWarning: Non-stationary starting autoregressive parameters found. Using zeros as starting parameters.\n",
            "UserWarning: Non-invertible starting MA parameters found. Using zeros as starting parameters.\n"
          ]
        },
        {
          "output_type": "stream",
          "name": "stdout",
          "text": [
            "Parâmetros sendo testados: (4, 1, 4)\n"
          ]
        },
        {
          "output_type": "stream",
          "name": "stderr",
          "text": [
            "ConvergenceWarning: Maximum Likelihood optimization failed to converge. Check mle_retvals\n"
          ]
        },
        {
          "output_type": "stream",
          "name": "stdout",
          "text": [
            "Parâmetros sendo testados: (4, 2, 0)\n",
            "Parâmetros sendo testados: (4, 2, 1)\n",
            "Parâmetros sendo testados: (4, 2, 2)\n",
            "Parâmetros sendo testados: (4, 2, 3)\n",
            "Parâmetros sendo testados: (4, 2, 4)\n"
          ]
        },
        {
          "output_type": "stream",
          "name": "stderr",
          "text": [
            "ConvergenceWarning: Maximum Likelihood optimization failed to converge. Check mle_retvals\n"
          ]
        },
        {
          "output_type": "stream",
          "name": "stdout",
          "text": [
            "Parâmetros sendo testados: (4, 3, 0)\n",
            "Parâmetros sendo testados: (4, 3, 1)\n",
            "Parâmetros sendo testados: (4, 3, 2)\n"
          ]
        },
        {
          "output_type": "stream",
          "name": "stderr",
          "text": [
            "ConvergenceWarning: Maximum Likelihood optimization failed to converge. Check mle_retvals\n",
            "UserWarning: Non-invertible starting MA parameters found. Using zeros as starting parameters.\n"
          ]
        },
        {
          "output_type": "stream",
          "name": "stdout",
          "text": [
            "Parâmetros sendo testados: (4, 3, 3)\n",
            "Parâmetros sendo testados: (4, 3, 4)\n"
          ]
        },
        {
          "output_type": "stream",
          "name": "stderr",
          "text": [
            "UserWarning: Non-invertible starting MA parameters found. Using zeros as starting parameters.\n",
            "ConvergenceWarning: Maximum Likelihood optimization failed to converge. Check mle_retvals\n"
          ]
        },
        {
          "output_type": "stream",
          "name": "stdout",
          "text": [
            "Parâmetros sendo testados: (4, 4, 0)\n",
            "Parâmetros sendo testados: (4, 4, 1)\n"
          ]
        },
        {
          "output_type": "stream",
          "name": "stderr",
          "text": [
            "UserWarning: Non-invertible starting MA parameters found. Using zeros as starting parameters.\n"
          ]
        },
        {
          "output_type": "stream",
          "name": "stdout",
          "text": [
            "Parâmetros sendo testados: (4, 4, 2)\n"
          ]
        },
        {
          "output_type": "stream",
          "name": "stderr",
          "text": [
            "UserWarning: Non-invertible starting MA parameters found. Using zeros as starting parameters.\n",
            "ConvergenceWarning: Maximum Likelihood optimization failed to converge. Check mle_retvals\n",
            "UserWarning: Non-invertible starting MA parameters found. Using zeros as starting parameters.\n"
          ]
        },
        {
          "output_type": "stream",
          "name": "stdout",
          "text": [
            "Parâmetros sendo testados: (4, 4, 3)\n",
            "Parâmetros sendo testados: (4, 4, 4)\n"
          ]
        },
        {
          "output_type": "stream",
          "name": "stderr",
          "text": [
            "UserWarning: Non-invertible starting MA parameters found. Using zeros as starting parameters.\n",
            "ConvergenceWarning: Maximum Likelihood optimization failed to converge. Check mle_retvals\n"
          ]
        }
      ]
    },
    {
      "cell_type": "code",
      "source": [
        "# Obtem o indice do MSE mínimo na mse_list\n",
        "optimal_index = mse_list.index(min(mse_list))\n",
        "\n",
        "# Obtem e imprime o conjunto de parâmetros ótimo (que minimiza o MSE)\n",
        "optimal_parameters = parameters[optimal_index]\n",
        "print(f\"Parâmetros ótimos: {optimal_parameters}\")\n",
        "\n",
        "# Ajusta o modelo ARIMA para os parâmetros ótimos\n",
        "model = ARIMA(train_data, order=optimal_parameters)\n",
        "model_fit = model.fit()\n",
        "\n",
        "# Realiza predição acerca dos dados de teste\n",
        "predictions = model_fit.forecast(steps=len(test_data))\n",
        "\n",
        "# Copia o índice de data do text_data para predictions\n",
        "predictions.index = test_data_indexes\n",
        "\n",
        "# Plota as predições junto dos dados reais\n",
        "plt.plot(close_df, label='Dados reais')\n",
        "plt.plot(predictions, label='Predição')\n",
        "plt.title('Preços de fechamento da AAPL')\n",
        "plt.xlabel('Data')\n",
        "plt.ylabel('Preço de fechamento (USD)')\n",
        "plt.legend()\n",
        "plt.grid(True)\n",
        "plt.show()\n",
        "\n",
        "# Calcula e imprime as métricas de avaliação\n",
        "mse = mean_squared_error(test_data, predictions)\n",
        "mae = mean_absolute_error(test_data, predictions)\n",
        "print(f'Erro Médio Quadrático (MSE): {mse}')\n",
        "print(f'Erro Médio Absoluto (MAE): {mae}')"
      ],
      "metadata": {
        "colab": {
          "base_uri": "https://localhost:8080/",
          "height": 541
        },
        "id": "jRKWbtNDHElK",
        "outputId": "b3d8320c-5a09-477f-b403-1007a89aed56"
      },
      "execution_count": 15,
      "outputs": [
        {
          "output_type": "stream",
          "name": "stdout",
          "text": [
            "Parâmetros ótimos: (2, 3, 4)\n"
          ]
        },
        {
          "output_type": "stream",
          "name": "stderr",
          "text": [
            "UserWarning: Non-invertible starting MA parameters found. Using zeros as starting parameters.\n"
          ]
        },
        {
          "output_type": "display_data",
          "data": {
            "text/plain": [
              "<Figure size 640x480 with 1 Axes>"
            ],
            "image/png": "[encoded data removed]"
          },
          "metadata": {}
        },
        {
          "output_type": "stream",
          "name": "stdout",
          "text": [
            "Erro Médio Quadrático (MSE): 401.35469437178415\n",
            "Erro Médio Absoluto (MAE): 17.996824233935794\n"
          ]
        }
      ]
    },
    {
      "cell_type": "markdown",
      "source": [
        "# 3 Conclusão\n",
        "\n",
        "Neste projeto, implementamos um modelo ARIMA para prever os preços de fechamento das ações da Apple Inc. (AAPL) com base em dados históricos. Optamos por utilizar o preço de fechamento não ajustado devido à indisponibilidade do preço ajustado no conjunto de dados obtido. O preço ajustado seria mais adequado, pois leva em conta eventos como splits e dividendos, proporcionando uma representação mais precisa do retorno real do investimento.\n",
        "\n",
        "Inicialmente, testamos o modelo ARIMA com os parâmetros `(4,1,1)`, escolhidos sem um critério específico. Essa configuração resultou em um ajuste ruim, conforme evidenciado pelos altos valores de MSE e MAE, além da visualização no gráfico, que mostrava uma discrepância significativa entre as previsões e os valores reais.\n",
        "\n",
        "Para melhorar o desempenho do modelo, realizamos uma busca em grade para encontrar os melhores parâmetros `(p, d, q)`. No entanto, devido ao alto custo computacional, limitamos a busca a valores máximos de 4 para cada parâmetro. Ainda assim, encontramos uma combinação mais eficiente: `(0,3,4)`. Com essa configuração, o modelo apresentou resultados significativamente melhores. Embora a curva de previsão não acompanhe perfeitamente os dados reais, o modelo foi capaz de capturar a tendência de crescimento das ações no período de predição, demonstrando sua utilidade para análises de médio prazo."
      ],
      "metadata": {
        "id": "y4Tp0Pj7KdXC"
      }
    },
    {
      "cell_type": "markdown",
      "source": [
        "# 4 Próximos passos\n",
        "\n",
        "Embora a implementação atual do ARIMA tenha fornecido resultados razoáveis, várias melhorias poderiam aumentar o poder preditivo do modelo.\n",
        "\n",
        "Trabalhos futuros devem focar em técnicas mais sofisticadas de otimização de parâmetros, como otimização Bayesiana, para potencialmente descobrir combinações `(p,d,q)` melhores do que as identificadas em nossa busca em grade. O modelo poderia ser estendido para prever preços em períodos mais distantes, embora isso exigiria validação cuidadosa dada a incerteza inerente a previsões de longo prazo.\n",
        "\n",
        "Também poderíamos testar o modelo em previsões de longo prazo, lembrando que, quanto mais distante for a previsão, menos confiáveis tendem a ser os resultados. Também seria interessante incluir fatores externos ou testar outros modelos, como LSTM ou Prophet, para comparar com o ARIMA.\n",
        "\n",
        "As limitações computacionais permanecem um desafio, sugerindo o valor potencial de explorar soluções em nuvem ou processamento paralelo para permitir buscas de parâmetros mais exaustivas."
      ],
      "metadata": {
        "id": "dwqzCtZGK08J"
      }
    },
    {
      "cell_type": "code",
      "source": [],
      "metadata": {
        "id": "orTJp5gHMqDJ"
      },
      "execution_count": null,
      "outputs": []
    }
  ]
}
